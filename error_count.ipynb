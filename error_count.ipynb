{
 "cells": [
  {
   "cell_type": "code",
   "execution_count": 33,
   "id": "6a289fd2-b4a9-4dce-a1de-27872562d48b",
   "metadata": {},
   "outputs": [],
   "source": [
    "import pandas as pd\n",
    "import numpy as np\n",
    "import matplotlib.pyplot as plt"
   ]
  },
  {
   "cell_type": "code",
   "execution_count": 30,
   "id": "1195b9de-1096-45f4-8fc5-889b40486e99",
   "metadata": {},
   "outputs": [],
   "source": [
    "def count_error(path):\n",
    "    with open(path) as file:\n",
    "        ar = file.read()\n",
    "        return ar.count(\"--------------------------------------------------------------------------------------------------\")"
   ]
  },
  {
   "cell_type": "code",
   "execution_count": 31,
   "id": "6a30abe5-4768-493d-8af6-f33638ff45b6",
   "metadata": {},
   "outputs": [],
   "source": [
    "p = [\"dataset/error logs.txt\",\"dataset/error_log.txt\",\"dataset/error_log1.txt\",\"dataset/error-log.txt\"]"
   ]
  },
  {
   "cell_type": "code",
   "execution_count": 32,
   "id": "852f1e65-f474-4247-9042-1618a044dfbe",
   "metadata": {},
   "outputs": [
    {
     "data": {
      "text/plain": [
       "[42, 20, 33, 38]"
      ]
     },
     "execution_count": 32,
     "metadata": {},
     "output_type": "execute_result"
    }
   ],
   "source": [
    "e = []\n",
    "for i in p:\n",
    "    e.append(count_error(i))\n",
    "e"
   ]
  },
  {
   "cell_type": "code",
   "execution_count": 37,
   "id": "7ba664b0-8579-430b-9ed0-c111bf300751",
   "metadata": {},
   "outputs": [
    {
     "data": {
      "image/png": "[encoded data removed]",
      "text/plain": [
       "<Figure size 432x288 with 1 Axes>"
      ]
     },
     "metadata": {
      "needs_background": "light"
     },
     "output_type": "display_data"
    }
   ],
   "source": [
    "# creating the bar plot\n",
    "plt.bar([\"1\",\"2\",\"3\",\"4\"],e, color ='maroon',\n",
    "        width = 0.4)\n",
    "\n",
    "plt.show()"
   ]
  },
  {
   "cell_type": "code",
   "execution_count": null,
   "id": "a5b60a09-705f-4dcc-89a6-834132ed2765",
   "metadata": {},
   "outputs": [],
   "source": []
  },
  {
   "cell_type": "code",
   "execution_count": null,
   "id": "cadb632f-3edf-4c11-b184-8b933e252c8a",
   "metadata": {},
   "outputs": [],
   "source": []
  },
  {
   "cell_type": "code",
   "execution_count": null,
   "id": "7ca08e90-8e96-40bc-ab37-01afa578b3e7",
   "metadata": {},
   "outputs": [],
   "source": []
  },
  {
   "cell_type": "code",
   "execution_count": null,
   "id": "945e1d6f-36e7-42db-8802-f83040fb5c6a",
   "metadata": {},
   "outputs": [],
   "source": []
  },
  {
   "cell_type": "code",
   "execution_count": null,
   "id": "0e1f5e3d-5c54-4d69-939f-87af1f44156f",
   "metadata": {},
   "outputs": [],
   "source": []
  },
  {
   "cell_type": "code",
   "execution_count": null,
   "id": "4fa79826-62f7-4d16-b448-b444c7dc6007",
   "metadata": {},
   "outputs": [],
   "source": []
  }
 ],
 "metadata": {
  "kernelspec": {
   "display_name": "Python 3 (ipykernel)",
   "language": "python",
   "name": "python3"
  },
  "language_info": {
   "codemirror_mode": {
    "name": "ipython",
    "version": 3
   },
   "file_extension": ".py",
   "mimetype": "text/x-python",
   "name": "python",
   "nbconvert_exporter": "python",
   "pygments_lexer": "ipython3",
   "version": "3.8.13"
  }
 },
 "nbformat": 4,
 "nbformat_minor": 5
}
